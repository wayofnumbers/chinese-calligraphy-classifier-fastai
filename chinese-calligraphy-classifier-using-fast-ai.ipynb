{
 "cells": [
  {
   "cell_type": "markdown",
   "metadata": {},
   "source": [
    "# How I Trained Computer To Learn Calligraphy Styles\n"
   ]
  },
  {
   "cell_type": "markdown",
   "metadata": {},
   "source": [
    "I wanted to start a series of posts for the projects I finished/polished for my Practical Deep Learning for Coders"
   ]
  },
  {
   "cell_type": "markdown",
   "metadata": {
    "_cell_guid": "79c7e3d0-c299-4dcb-8224-4455121ee9b0",
    "_uuid": "d629ff2d2480ee46fbb7e2d37f6b5fab8052498a",
    "collapsed": true
   },
   "source": [
    "## Creating your own dataset from Google Images\n",
    "\n",
    "*by: Francisco Ingham and Jeremy Howard. Inspired by [Adrian Rosebrock](https://www.pyimagesearch.com/2017/12/04/how-to-create-a-deep-learning-dataset-using-google-images/)*"
   ]
  },
  {
   "cell_type": "code",
   "execution_count": null,
   "metadata": {
    "_uuid": "632ec030842006f4eea82475eb479943c2e6f0ea"
   },
   "outputs": [],
   "source": [
    "from fastai import *\n",
    "from fastai.vision import *"
   ]
  },
  {
   "cell_type": "markdown",
   "metadata": {
    "_uuid": "ff8bb7cf06f2747bbfcd9b0a0316901e8a5d7ee9"
   },
   "source": [
    "## **Get a list of URLs**\n",
    "\n",
    "**Search and scroll**\n",
    "\n",
    "Go to Google Images and search for the images you are interested in. The more specific you are in your Google Search, the better the results and the less manual pruning you will have to do.\n",
    "\n",
    "Scroll down until you've seen all the images you want to download, or until you see a button that says 'Show more results'. All the images you scrolled past are now available to download. To get more, click on the button, and continue scrolling. The maximum number of images Google Images shows is 700.\n",
    "\n",
    "It is a good idea to put things you want to exclude into the search query, for instance if you are searching for the Eurasian wolf, \"canis lupus lupus\", it might be a good idea to exclude other variants:\n",
    "\n",
    "\"canis lupus lupus\" -dog -arctos -familiaris -baileyi -occidentalis\n",
    "\n",
    "You can also limit your results to show only photos by clicking on Tools and selecting Photos from the Type dropdown.\n",
    "\n",
    "**Download into file**\n",
    "\n",
    "Now you must run some Javascript code in your browser which will save the URLs of all the images you want for you dataset.\n",
    "\n",
    "Press CtrlShiftJ in Windows/Linux and CmdOptJ in Mac, and a small window the javascript 'Console' will appear. That is where you will paste the JavaScript commands.\n",
    "\n",
    "You will need to get the urls of each of the images. You can do this by running the following commands:\n",
    "\n",
    "```\n",
    "urls = Array.from(document.querySelectorAll('.rg_di .rg_meta')).map(el=>JSON.parse(el.textContent).ou);\n",
    "window.open('data:text/csv;charset=utf-8,' + escape(urls.join('\\n')));\n",
    "```\n",
    "\n",
    "**Create directory and upload urls file into your server**\n",
    "\n",
    "Choose an appropriate name for your labeled images. You can run these steps multiple times to grab different labels."
   ]
  },
  {
   "cell_type": "markdown",
   "metadata": {
    "_uuid": "fadebe63eca62f79712ee2a8cbe872c87d07a73a"
   },
   "source": [
    "**Note:** You can download the urls locally and upload them to kaggle using:\n",
    "\n",
    "\n",
    "Here, I have uploaded the urls for \n",
    " - Teddy\n",
    " - Grizzly\n",
    " - Black "
   ]
  },
  {
   "cell_type": "code",
   "execution_count": null,
   "metadata": {
    "_uuid": "22199a3bde2f0d386c78a8e23b1ec9dcd144aa46"
   },
   "outputs": [],
   "source": [
    "classes = ['lishu','xiaozhuan','kaishu']"
   ]
  },
  {
   "cell_type": "code",
   "execution_count": null,
   "metadata": {
    "_uuid": "63dd03cebc529ecc58caf57ed98050a42cb7c1a1"
   },
   "outputs": [],
   "source": [
    "# folder = 'lishu'\n",
    "# file = 'lishu.csv'\n",
    "# path = Path('data/')\n",
    "# dest = path/folder\n",
    "# dest.mkdir(parents=True, exist_ok=True)"
   ]
  },
  {
   "cell_type": "code",
   "execution_count": null,
   "metadata": {
    "_uuid": "975379318c9ed8f85109155e7ec1c490830a6885"
   },
   "outputs": [],
   "source": []
  },
  {
   "cell_type": "code",
   "execution_count": null,
   "metadata": {
    "_uuid": "f0f75ee0eea79478b8e7ed9372e307e397692f69"
   },
   "outputs": [],
   "source": [
    "#??download_images"
   ]
  },
  {
   "cell_type": "code",
   "execution_count": null,
   "metadata": {
    "_uuid": "17ca88e3f824a7c92ecbb56f27660d15fddf50e5"
   },
   "outputs": [],
   "source": [
    "#download_images(path/file, dest, max_pics=200)"
   ]
  },
  {
   "cell_type": "code",
   "execution_count": null,
   "metadata": {
    "_uuid": "72a0b662959dc58ee8becf996ec474b2957e2b37"
   },
   "outputs": [],
   "source": [
    "#folder = 'xiaozhuan'\n",
    "#file = 'xiaozhuan.csv'"
   ]
  },
  {
   "cell_type": "code",
   "execution_count": null,
   "metadata": {
    "_uuid": "e4d1b92a8b5808f2b4a411c9c38696892cc1d848"
   },
   "outputs": [],
   "source": [
    "#path = Path('data/')\n",
    "#dest = path/folder\n",
    "#dest.mkdir(parents=True, exist_ok=True)\n"
   ]
  },
  {
   "cell_type": "code",
   "execution_count": null,
   "metadata": {},
   "outputs": [],
   "source": [
    "#!cp ../input/chinese-calligraphy/{file} {path/file}"
   ]
  },
  {
   "cell_type": "code",
   "execution_count": null,
   "metadata": {
    "_uuid": "6c14dbcdb17b93b39c8fb017eca3cb8bd1bce99f"
   },
   "outputs": [],
   "source": [
    "#download_images(path/file, dest, max_pics=200)"
   ]
  },
  {
   "cell_type": "code",
   "execution_count": null,
   "metadata": {
    "_uuid": "80b0687f55d7d7818aa8d50b3fa7e93a1feb940f"
   },
   "outputs": [],
   "source": [
    "#folder = 'kaishu'\n",
    "#file = 'kaishu.csv'"
   ]
  },
  {
   "cell_type": "code",
   "execution_count": null,
   "metadata": {
    "_uuid": "6c0e5345819bec98713b6f6a2cb5d967993a6d8c"
   },
   "outputs": [],
   "source": [
    "#path = Path('data/')\n",
    "#dest = path/folder\n",
    "#dest.mkdir(parents=True, exist_ok=True)\n",
    "#!cp ../input/chinese-calligraphy/{file} {path/file}"
   ]
  },
  {
   "cell_type": "code",
   "execution_count": null,
   "metadata": {
    "_uuid": "8eb933c4adfe13272a151cb2012af9ac565f767b"
   },
   "outputs": [],
   "source": [
    "#download_images(path/file, dest, max_pics=200)"
   ]
  },
  {
   "cell_type": "markdown",
   "metadata": {
    "_uuid": "e84a611c56eb9129a5a93dc4a9660921274ee057"
   },
   "source": [
    "Then we can remove any images that can't be opened:"
   ]
  },
  {
   "cell_type": "code",
   "execution_count": null,
   "metadata": {
    "_uuid": "ef01e91d294856ad418fd68370a18d20eca64e7b"
   },
   "outputs": [],
   "source": [
    "#for c in classes:\n",
    "#     print(c)\n",
    "#     verify_images(path/c, delete=True, max_size=500)"
   ]
  },
  {
   "cell_type": "markdown",
   "metadata": {
    "_uuid": "a4a4579b4c9bafa412a1411eea5f0759eeb377a7"
   },
   "source": [
    "## View data"
   ]
  },
  {
   "cell_type": "code",
   "execution_count": null,
   "metadata": {},
   "outputs": [],
   "source": [
    "!ls ../input/chinese-calligraphy-4/"
   ]
  },
  {
   "cell_type": "code",
   "execution_count": null,
   "metadata": {},
   "outputs": [],
   "source": [
    "!mkdir data\n",
    "!cp -a ../input/chinese-calligraphy-4/train ./data/train"
   ]
  },
  {
   "cell_type": "code",
   "execution_count": null,
   "metadata": {},
   "outputs": [],
   "source": [
    "# !ls data/train/kaishu"
   ]
  },
  {
   "cell_type": "code",
   "execution_count": null,
   "metadata": {},
   "outputs": [],
   "source": [
    "path = Path('./data')\n"
   ]
  },
  {
   "cell_type": "code",
   "execution_count": null,
   "metadata": {
    "_uuid": "ad3062c8104a46872bfec7671368c1599724c0c8"
   },
   "outputs": [],
   "source": [
    "np.random.seed(42)\n",
    "data = ImageDataBunch.from_folder(path, valid_pct=0.2,\n",
    "ds_tfms=get_transforms(do_flip=False), size=128, num_workers=4).normalize(imagenet_stats)"
   ]
  },
  {
   "cell_type": "code",
   "execution_count": null,
   "metadata": {
    "_uuid": "a36520b242fb28118b88538bc15aa084dcbc90df"
   },
   "outputs": [],
   "source": [
    "data.classes"
   ]
  },
  {
   "cell_type": "code",
   "execution_count": null,
   "metadata": {
    "_uuid": "1d56841e2e1a57416383cfecebd867cf39123a68"
   },
   "outputs": [],
   "source": [
    "data.show_batch(rows=3, figsize=(9,10))"
   ]
  },
  {
   "cell_type": "code",
   "execution_count": null,
   "metadata": {},
   "outputs": [],
   "source": [
    "# learn.data = data\n",
    "# data.train_ds[0][0].shape\n",
    "# learn.freeze"
   ]
  },
  {
   "cell_type": "code",
   "execution_count": null,
   "metadata": {
    "_uuid": "f6fab69f5bf6c0b855f19f5e6ca2666a93e58340"
   },
   "outputs": [],
   "source": [
    "learn = cnn_learner(data, models.resnet50, metrics=error_rate)"
   ]
  },
  {
   "cell_type": "code",
   "execution_count": null,
   "metadata": {
    "_uuid": "0ccce1e98278fb987cbfd084384a1c5d90c00eb2"
   },
   "outputs": [],
   "source": [
    "learn.fit_one_cycle(4)"
   ]
  },
  {
   "cell_type": "code",
   "execution_count": null,
   "metadata": {
    "_uuid": "6b9c530b5bdf71f315897804801fca507ca1c6af"
   },
   "outputs": [],
   "source": [
    "learn.save('stage-1')"
   ]
  },
  {
   "cell_type": "code",
   "execution_count": null,
   "metadata": {
    "_uuid": "6c90811451de7b908ede978180be444229de624c"
   },
   "outputs": [],
   "source": []
  },
  {
   "cell_type": "code",
   "execution_count": null,
   "metadata": {
    "_uuid": "5e6d2effe975a7f7b4d6d79ad5d3440256bd8936"
   },
   "outputs": [],
   "source": [
    "learn.unfreeze()\n",
    "learn.lr_find()"
   ]
  },
  {
   "cell_type": "code",
   "execution_count": null,
   "metadata": {
    "_uuid": "7fc60cddeb33cb44fcff934959afba58c22b6ca5"
   },
   "outputs": [],
   "source": [
    "learn.recorder.plot()"
   ]
  },
  {
   "cell_type": "code",
   "execution_count": null,
   "metadata": {},
   "outputs": [],
   "source": [
    "data.classes, data.c, len(data.train_ds), len(data.valid_ds)"
   ]
  },
  {
   "cell_type": "code",
   "execution_count": null,
   "metadata": {
    "_uuid": "33e60a1a44d014e170cd12d9bb5b5a4946b652a2"
   },
   "outputs": [],
   "source": [
    "learn.fit_one_cycle(1, max_lr=slice(1e-6,1e-4))"
   ]
  },
  {
   "cell_type": "code",
   "execution_count": null,
   "metadata": {},
   "outputs": [],
   "source": [
    "np.random.seed(42)\n",
    "data = ImageDataBunch.from_folder(path, valid_pct=0.2,\n",
    "ds_tfms=get_transforms(do_flip=False), size=256, num_workers=4).normalize(imagenet_stats)\n",
    "learn.data = data\n",
    "data.train_ds[0][0].shape\n",
    "learn.freeze()\n",
    "learn.lr_find()\n",
    "learn.recorder.plot()"
   ]
  },
  {
   "cell_type": "code",
   "execution_count": null,
   "metadata": {},
   "outputs": [],
   "source": [
    "learn.fit_one_cycle(2, max_lr=slice(1e-4,1e-3))"
   ]
  },
  {
   "cell_type": "code",
   "execution_count": null,
   "metadata": {},
   "outputs": [],
   "source": [
    "learn.fit_one_cycle(4, max_lr=slice(1e-4,1e-3))"
   ]
  },
  {
   "cell_type": "code",
   "execution_count": null,
   "metadata": {},
   "outputs": [],
   "source": [
    "learn.save('stage-1-256-rn50')\n",
    "learn.unfreeze()\n",
    "learn.fit_one_cycle(2, slice(1e-4, 1e-3))\n"
   ]
  },
  {
   "cell_type": "code",
   "execution_count": null,
   "metadata": {},
   "outputs": [],
   "source": [
    "learn.fit_one_cycle(2, slice(1e-4, 1e-3))\n"
   ]
  },
  {
   "cell_type": "code",
   "execution_count": null,
   "metadata": {},
   "outputs": [],
   "source": [
    "learn.export('export.pkl')\n",
    "!cp data/export.pkl export.pkl"
   ]
  },
  {
   "cell_type": "code",
   "execution_count": null,
   "metadata": {},
   "outputs": [],
   "source": [
    "import os\n",
    "#os.chdir(r'kaggle/working/')\n",
    "from IPython.display import FileLink\n",
    "FileLink(r'export.pkl')"
   ]
  },
  {
   "cell_type": "code",
   "execution_count": null,
   "metadata": {
    "_uuid": "876bc367ec11e3332d4ff09edfb070c05e4b12f7"
   },
   "outputs": [],
   "source": [
    "learn.save('stage-2')"
   ]
  },
  {
   "cell_type": "markdown",
   "metadata": {
    "_uuid": "c8a4ede992a1acde132db07989659dba31eedada"
   },
   "source": [
    "## Interpretation"
   ]
  },
  {
   "cell_type": "code",
   "execution_count": null,
   "metadata": {
    "_uuid": "34fb3e94fcbab33197efad68a3cea385cad6e423"
   },
   "outputs": [],
   "source": [
    "learn.load('stage-2');"
   ]
  },
  {
   "cell_type": "code",
   "execution_count": null,
   "metadata": {
    "_uuid": "edbd40fd7049b1d2a0fcf756a418787fe025a973"
   },
   "outputs": [],
   "source": [
    "interp = ClassificationInterpretation.from_learner(learn)\n",
    "\n",
    "losses,idxs = interp.top_losses()\n",
    "\n",
    "len(data.valid_ds)==len(losses)==len(idxs)"
   ]
  },
  {
   "cell_type": "code",
   "execution_count": null,
   "metadata": {},
   "outputs": [],
   "source": [
    "interp.plot_top_losses(9)"
   ]
  },
  {
   "cell_type": "code",
   "execution_count": null,
   "metadata": {
    "_uuid": "36de4397415186abe959895e8baf5ddf8f1b7672"
   },
   "outputs": [],
   "source": [
    "interp.plot_confusion_matrix()"
   ]
  },
  {
   "cell_type": "markdown",
   "metadata": {},
   "source": [
    "Possible confusion:\n",
    "1. Single big character (unseen)\n",
    "2. Variant of some calligraphy art (unseen)\n",
    "3. Very small font size (blur)\n",
    "\n",
    "\n",
    "Need better dataset!\n",
    "\n",
    "To build a robust model that generialize well, a big dataset is essential, the model needs to 'see' everything to better judge on everything. Like the single character one, the model didn't see much of it, so it's hard to classify it correctly. 100 clean dataset can train a good dataset to maybe 80-90% but very hard to get to state-of-the-art level, e.g. >97%."
   ]
  },
  {
   "cell_type": "markdown",
   "metadata": {
    "_uuid": "4d453cb5a0b082bfd5043fb39f5788bda68b93e8"
   },
   "source": [
    "## Cleaning Up\n",
    "\n",
    "Some of our top losses aren't due to bad performance by our model. There are images in our data set that shouldn't be.\n",
    "\n",
    "Using the `ImageCleaner` widget from `fastai.widgets` we can prune our top losses, removing photos that don't belong."
   ]
  },
  {
   "cell_type": "code",
   "execution_count": null,
   "metadata": {
    "_uuid": "e0b17f3eb580e94d798decde1376544780cd44f4"
   },
   "outputs": [],
   "source": [
    "from fastai.widgets import *"
   ]
  },
  {
   "cell_type": "markdown",
   "metadata": {
    "_uuid": "14f4c1c667c29e500229c38d186f1211d48e9d3a"
   },
   "source": [
    "First we need to get the file paths from our top_losses. We can do this with `.from_toplosses`. We then feed the top losses indexes and corresponding dataset to `ImageCleaner`.\n",
    "\n",
    "Notice that the widget will not delete images directly from disk but it will create a new csv file `cleaned.csv` from where you can create a new ImageDataBunch with the corrected labels to continue training your model."
   ]
  },
  {
   "cell_type": "markdown",
   "metadata": {
    "_uuid": "c658334857b4e0e0f4fe5b7dec482ff7e53e4842"
   },
   "source": [
    "Note: Please Set the Number of images to a number that you'd like to view:\n",
    "ex: ```n_imgs=100```"
   ]
  },
  {
   "cell_type": "code",
   "execution_count": null,
   "metadata": {
    "_uuid": "725b963a4e33ba969a7ca099010e7759cc58e0a0"
   },
   "outputs": [],
   "source": [
    "ds, idxs = DatasetFormatter().from_toplosses(learn, n_imgs=290)"
   ]
  },
  {
   "cell_type": "code",
   "execution_count": null,
   "metadata": {
    "_uuid": "d9a271d3b99e901fabb418e39a05a6271eef560c"
   },
   "outputs": [],
   "source": [
    "# ImageCleaner(ds, idxs, path)"
   ]
  },
  {
   "cell_type": "markdown",
   "metadata": {
    "_uuid": "aac553fc19a8a2c6eee3ffafaeaf2797ff94ce88"
   },
   "source": [
    "Flag photos for deletion by clicking 'Delete'. Then click 'Next Batch' to delete flagged photos and keep the rest in that row. ImageCleaner will show you a new row of images until there are no more to show. In this case, the widget will show you images until there are none left from top_losses.ImageCleaner(ds, idxs)\n",
    "\n",
    "You can also find duplicates in your dataset and delete them! To do this, you need to run .from_similars to get the potential duplicates' ids and then run ImageCleaner with duplicates=True. The API works in a similar way as with misclassified images: just choose the ones you want to delete and click 'Next Batch' until there are no more images left."
   ]
  },
  {
   "cell_type": "code",
   "execution_count": null,
   "metadata": {
    "_uuid": "e2a4fb623795a4137d017920a372af7fa5c1f1fb"
   },
   "outputs": [],
   "source": [
    "ds, idxs = DatasetFormatter().from_similars(learn)"
   ]
  },
  {
   "cell_type": "markdown",
   "metadata": {
    "_uuid": "5595ac3209779af22d7bdf64e535805759cf891d"
   },
   "source": [
    "Remember to recreate your ImageDataBunch from your cleaned.csv to include the changes you made in your data!"
   ]
  },
  {
   "cell_type": "markdown",
   "metadata": {
    "_uuid": "ec0d829d282d2c5453e8d325478f51841f7b78e1"
   },
   "source": [
    "## Putting your model in production\n",
    "> \n",
    "You probably want to use CPU for inference, except at massive scale (and you almost certainly don't need to train in real-time). If you don't have a GPU that happens automatically. You can test your model on CPU like so:"
   ]
  },
  {
   "cell_type": "code",
   "execution_count": null,
   "metadata": {
    "_uuid": "da5a5d90712cc8fced9d3455c2fadcdcb9aa5021"
   },
   "outputs": [],
   "source": [
    "#import fastai\n",
    "#fastai.defaults.device = torch.device('cpu')"
   ]
  },
  {
   "cell_type": "code",
   "execution_count": null,
   "metadata": {
    "_uuid": "27081a01e40a698e65efa5705a634e25e8b32068"
   },
   "outputs": [],
   "source": [
    "#img = open_image(path/'black'/'00000021.jpg')\n",
    "#img"
   ]
  },
  {
   "cell_type": "code",
   "execution_count": null,
   "metadata": {
    "_uuid": "9d2c9988976c8826f917dddebbcb34076e3824aa"
   },
   "outputs": [],
   "source": [
    "#classes = ['black', 'grizzly', 'teddys']"
   ]
  },
  {
   "cell_type": "code",
   "execution_count": null,
   "metadata": {
    "_uuid": "cf4357c0f8f2ae9a872ce0585c76617acdf8be75"
   },
   "outputs": [],
   "source": [
    "#data2 = ImageDataBunch.single_from_classes(path, classes, tfms=get_transforms(), size=224).normalize(imagenet_stats)"
   ]
  },
  {
   "cell_type": "code",
   "execution_count": null,
   "metadata": {
    "_uuid": "6f2bf24d0ca3bbf4de10e56788cea3b12d746efd"
   },
   "outputs": [],
   "source": [
    "#learn = create_cnn(data2, models.resnet34).load('stage-2')"
   ]
  },
  {
   "cell_type": "code",
   "execution_count": null,
   "metadata": {
    "_uuid": "d275b0f1c5573ad96125afa154f64787570e1ab7"
   },
   "outputs": [],
   "source": [
    "#pred_class,pred_idx,outputs = learn.predict(img)\n",
    "#pred_class"
   ]
  },
  {
   "cell_type": "markdown",
   "metadata": {
    "_uuid": "59bd8d6b2b6f790121699c0d49607f10d2d27a19"
   },
   "source": [
    "So you might create a route something like this ([thanks](https://github.com/simonw/cougar-or-not) to Simon Willison for the structure of this code):\n",
    "\n",
    "```\n",
    "\n",
    "@app.route(\"/classify-url\", methods=[\"GET\"])\n",
    "async def classify_url(request):\n",
    "    bytes = await get_bytes(request.query_params[\"url\"])\n",
    "    img = open_image(BytesIO(bytes))\n",
    "    _,_,losses = learner.predict(img)\n",
    "    return JSONResponse({\n",
    "        \"predictions\": sorted(\n",
    "            zip(cat_learner.data.classes, map(float, losses)),\n",
    "            key=lambda p: p[1],\n",
    "            reverse=True\n",
    "        )\n",
    "    })\n",
    "    \n",
    "    ```\n",
    "    \n"
   ]
  },
  {
   "cell_type": "markdown",
   "metadata": {
    "_uuid": "3fd9c8ad33839c3559f46c1338921dfdfc942593"
   },
   "source": [
    "(This [example](https://www.starlette.io/) is for the Starlette web app toolkit.)"
   ]
  },
  {
   "cell_type": "markdown",
   "metadata": {
    "_uuid": "1308f09eeeec7c3509affa5ba1ba8b8f2761109c"
   },
   "source": [
    "## Things that can go wrong"
   ]
  },
  {
   "cell_type": "markdown",
   "metadata": {
    "_uuid": "2fddc5b4583ca8806782d5130738620502396a6a"
   },
   "source": [
    "- Most of the time things will train fine with the defaults\n",
    "- There's not much you really need to tune (despite what you've heard!)\n",
    "- Most likely are\n",
    "  - Learning rate\n",
    "  - Number of epochs"
   ]
  },
  {
   "cell_type": "markdown",
   "metadata": {
    "_uuid": "3d39b40d989d132ba1ce58c89c2990de8b42fd93"
   },
   "source": [
    "### Learning rate (LR) too low"
   ]
  },
  {
   "cell_type": "code",
   "execution_count": null,
   "metadata": {
    "_uuid": "7ace45fe9e343793ff2727e0b797c9a22046c64c"
   },
   "outputs": [],
   "source": [
    "#learn = create_cnn(data, models.resnet34, metrics=error_rate)"
   ]
  },
  {
   "cell_type": "code",
   "execution_count": null,
   "metadata": {
    "_uuid": "a8a8c966d304c10214206c1a23fe7456027965c6"
   },
   "outputs": [],
   "source": [
    "#learn.fit_one_cycle(5, max_lr=1e-5)"
   ]
  },
  {
   "cell_type": "code",
   "execution_count": null,
   "metadata": {
    "_uuid": "f037b4b223c871e955a39f9bb2010bb1973ea0fe"
   },
   "outputs": [],
   "source": [
    "#learn.recorder.plot_losses()"
   ]
  },
  {
   "cell_type": "markdown",
   "metadata": {
    "_uuid": "5888de416c86c87b3a32665b94c0cb7630ed72fb"
   },
   "source": [
    "As well as taking a really long time, it's getting too many looks at each image, so may overfit."
   ]
  },
  {
   "cell_type": "markdown",
   "metadata": {
    "_uuid": "c774630df8e5f32357d6c2d1acfb48934d57381c"
   },
   "source": [
    "### Too few epochs"
   ]
  },
  {
   "cell_type": "code",
   "execution_count": null,
   "metadata": {
    "_uuid": "f978df2e09e7bf3cfac965278317513c48fabd55"
   },
   "outputs": [],
   "source": [
    "#learn = create_cnn(data, models.resnet34, metrics=error_rate, pretrained=False)"
   ]
  },
  {
   "cell_type": "code",
   "execution_count": null,
   "metadata": {
    "_uuid": "4097cb4c0ec5c96a3baabb66ef53c8aa34b97a3b"
   },
   "outputs": [],
   "source": [
    "#learn.fit_one_cycle(1)"
   ]
  },
  {
   "cell_type": "markdown",
   "metadata": {
    "_uuid": "115acd75ddc2a57bffaf2effbaf9faa7fcebb0d4"
   },
   "source": [
    "### Too many epochs"
   ]
  },
  {
   "cell_type": "code",
   "execution_count": null,
   "metadata": {
    "_uuid": "ff6f420d3ba1cba4d73e364236e8b06c940e5108"
   },
   "outputs": [],
   "source": [
    "# np.random.seed(42)\n",
    "# data = ImageDataBunch.from_folder(path, train=\".\", valid_pct=0.9, bs=32, \n",
    "#        ds_tfms=get_transforms(do_flip=False, max_rotate=0, max_zoom=1, max_lighting=0, max_warp=0\n",
    "#                              ),size=224, num_workers=4).normalize(imagenet_stats)"
   ]
  },
  {
   "cell_type": "code",
   "execution_count": null,
   "metadata": {
    "_uuid": "a6bfe6ee9b5452b6b192915278a8ab878bee1b14"
   },
   "outputs": [],
   "source": [
    "# learn = create_cnn(data, models.resnet50, metrics=error_rate, ps=0, wd=0)\n",
    "# learn.unfreeze()"
   ]
  },
  {
   "cell_type": "code",
   "execution_count": null,
   "metadata": {
    "_uuid": "fae27fb669daf1d6413e4b666f82e89c4d111f70"
   },
   "outputs": [],
   "source": [
    "# learn.fit_one_cycle(40, slice(1e-6,1e-4))"
   ]
  }
 ],
 "metadata": {
  "kernelspec": {
   "display_name": "Python 3",
   "language": "python",
   "name": "python3"
  },
  "language_info": {
   "codemirror_mode": {
    "name": "ipython",
    "version": 3
   },
   "file_extension": ".py",
   "mimetype": "text/x-python",
   "name": "python",
   "nbconvert_exporter": "python",
   "pygments_lexer": "ipython3",
   "version": "3.7.4"
  }
 },
 "nbformat": 4,
 "nbformat_minor": 1
}
